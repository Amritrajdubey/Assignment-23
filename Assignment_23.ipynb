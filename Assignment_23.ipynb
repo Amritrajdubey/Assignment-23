{
 "cells": [
  {
   "cell_type": "code",
   "execution_count": 2,
   "id": "01bef3c4",
   "metadata": {},
   "outputs": [
    {
     "name": "stdout",
     "output_type": "stream",
     "text": [
      "1 2 8\n"
     ]
    }
   ],
   "source": [
    "# Q1. What is the result of the code, and why?\n",
    ">>> def func(a, b=6, c=8):\n",
    "    print(a, b, c)\n",
    ">>> func(1, 2)\n"
   ]
  },
  {
   "cell_type": "markdown",
   "id": "6ed45f18",
   "metadata": {},
   "source": [
    "Result of code is (1,2,8) because when we provide value of a,b as 1,2 overiding previous value of b of 6 \n",
    "but we have not provided value of c so it has considered pre-defined value of c while calling print function."
   ]
  },
  {
   "cell_type": "code",
   "execution_count": 3,
   "id": "e30ac9a9",
   "metadata": {},
   "outputs": [
    {
     "name": "stdout",
     "output_type": "stream",
     "text": [
      "1 2 3\n"
     ]
    }
   ],
   "source": [
    "# Q2. What is the result of this code, and why?\n",
    ">>> def func(a, b, c=5):\n",
    "    print(a, b, c)\n",
    ">>> func(1, c=3, b=2)\n"
   ]
  },
  {
   "cell_type": "markdown",
   "id": "a80cdd2d",
   "metadata": {},
   "source": [
    "Result is (1,2,3) because we have defined value of b,c corresponding to it and has not defined value of a . So it has considered very first element of function as a and printed the same."
   ]
  },
  {
   "cell_type": "code",
   "execution_count": 4,
   "id": "dde293bd",
   "metadata": {},
   "outputs": [
    {
     "name": "stdout",
     "output_type": "stream",
     "text": [
      "1 (2, 3)\n"
     ]
    }
   ],
   "source": [
    "# Q3. How about this code: what is its result, and why?\n",
    ">>> def func(a, *pargs):\n",
    "    print(a, pargs)\n",
    ">>> func(1, 2, 3)\n"
   ]
  },
  {
   "cell_type": "markdown",
   "id": "ab25d32b",
   "metadata": {},
   "source": [
    "we have 1,(2,3) because we have used *pargs after 'a' while defining function which simply means we can pass n nos of parameters after 'a'. So whatever comes after value of 'a' will be inclosed inside small bracket seperatly."
   ]
  },
  {
   "cell_type": "code",
   "execution_count": 5,
   "id": "2b6be97b",
   "metadata": {},
   "outputs": [
    {
     "name": "stdout",
     "output_type": "stream",
     "text": [
      "1 {'c': 3, 'b': 2}\n"
     ]
    }
   ],
   "source": [
    "# Q4. What does this code print, and why?\n",
    ">>> def func(a, **kargs):\n",
    "    print(a, kargs)\n",
    ">>> func(a=1, c=3, b=2)\n"
   ]
  },
  {
   "cell_type": "markdown",
   "id": "ac5a7a3f",
   "metadata": {},
   "source": [
    "we have 1 {'c': 3, 'b': 2} because we have used ** kargs after 'a' while defining function which simple means what ever we provide after 'a' will be considered as key value pair for n nos of parameters. So whatever comes after value of 'a' will be converted in key value pair as of dictonary."
   ]
  },
  {
   "cell_type": "code",
   "execution_count": 1,
   "id": "f7068631",
   "metadata": {},
   "outputs": [
    {
     "name": "stdout",
     "output_type": "stream",
     "text": [
      "1 5 6 10\n"
     ]
    }
   ],
   "source": [
    "# Q5. What gets printed by this, and explain?\n",
    ">>> def func(a, b, c=8, d=5): print(a, b, c, d)\n",
    ">>> func(1, *(5, 6,10))\n"
   ]
  },
  {
   "cell_type": "markdown",
   "id": "af5046ba",
   "metadata": {},
   "source": [
    "We get 1 5 6 10 as result because after value of 'a' as 1 while we call function is enclosed inside small beacket with * so it will be separated individually with corresponding value of 'b','c','d'."
   ]
  },
  {
   "cell_type": "code",
   "execution_count": 2,
   "id": "e5a286e5",
   "metadata": {},
   "outputs": [
    {
     "data": {
      "text/plain": [
       "(1, ['x'], {'a': 'y'})"
      ]
     },
     "execution_count": 2,
     "metadata": {},
     "output_type": "execute_result"
    }
   ],
   "source": [
    "# Q6. what is the result of this, and explain?\n",
    ">>> def func(a, b, c): \n",
    "    a = 2; b[0] = 'x'; c['a'] = 'y'\n",
    ">>> l=1; m=[1]; n={'a':0}\n",
    ">>> func(l, m, n)\n",
    "\n",
    ">>> l, m, n"
   ]
  },
  {
   "cell_type": "markdown",
   "id": "145ef02e",
   "metadata": {},
   "source": [
    "Confused not sure of result."
   ]
  },
  {
   "cell_type": "code",
   "execution_count": null,
   "id": "7595c304",
   "metadata": {},
   "outputs": [],
   "source": []
  }
 ],
 "metadata": {
  "kernelspec": {
   "display_name": "Python 3 (ipykernel)",
   "language": "python",
   "name": "python3"
  },
  "language_info": {
   "codemirror_mode": {
    "name": "ipython",
    "version": 3
   },
   "file_extension": ".py",
   "mimetype": "text/x-python",
   "name": "python",
   "nbconvert_exporter": "python",
   "pygments_lexer": "ipython3",
   "version": "3.9.13"
  }
 },
 "nbformat": 4,
 "nbformat_minor": 5
}
